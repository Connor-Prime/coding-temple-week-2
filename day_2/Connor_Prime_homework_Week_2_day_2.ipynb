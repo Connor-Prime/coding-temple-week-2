{
 "cells": [
  {
   "cell_type": "markdown",
   "metadata": {},
   "source": [
    "# Exercises"
   ]
  },
  {
   "cell_type": "code",
   "execution_count": null,
   "metadata": {},
   "outputs": [],
   "source": [
    "# [tranform for variable in iterable]\n",
    "# [tranform for variable in iterable if condition]"
   ]
  },
  {
   "cell_type": "markdown",
   "metadata": {},
   "source": [
    "## Exercise 1 <br>\n",
    "<p>Using the given list, print out a filtered version of the list with only the numbers that are less than ten</b></i></p><br>\n"
   ]
  },
  {
   "cell_type": "code",
   "execution_count": 25,
   "metadata": {},
   "outputs": [
    {
     "name": "stdout",
     "output_type": "stream",
     "text": [
      "[1, 5, 8, 9]\n"
     ]
    }
   ],
   "source": [
    "alist = [1,11,14,5,8,9]\n",
    "\n",
    "alist.sort()\n",
    "\n",
    "new_list=[]\n",
    "\n",
    "# Sort instead of list comprehension for time complexity\n",
    "for num in alist:\n",
    "    if num < 10:\n",
    "        new_list.append(num)\n",
    "    else:\n",
    "        break\n",
    "\n",
    "print(new_list)\n",
    "\n"
   ]
  },
  {
   "cell_type": "markdown",
   "metadata": {},
   "source": [
    "## Exercise 2 <br>\n",
    "<p>Merge and sort the two lists below<br>\n",
    "<b><i>Hint: You can use the .sort() method</i></b></p>"
   ]
  },
  {
   "cell_type": "code",
   "execution_count": 46,
   "metadata": {},
   "outputs": [
    {
     "name": "stdout",
     "output_type": "stream",
     "text": [
      "[1, 2, 3, 3, 4, 4, 5, 5, 6, 6, 7, 8, 10]\n"
     ]
    }
   ],
   "source": [
    "l_1 = [1,2,3,4,5,6]\n",
    "l_2 = [3,4,5,6,7,8,10]\n",
    "\n",
    "l_combined=l_1+l_2\n",
    "\n",
    "print(sorted(l_combined))\n"
   ]
  },
  {
   "cell_type": "markdown",
   "metadata": {},
   "source": [
    "## Exercise 3 <br>\n",
    "<p>Square every number from 1 to 15<br>\n"
   ]
  },
  {
   "cell_type": "code",
   "execution_count": 39,
   "metadata": {},
   "outputs": [
    {
     "name": "stdout",
     "output_type": "stream",
     "text": [
      "[1, 4, 9, 16, 25, 36, 49, 64, 81, 100, 121, 144, 169, 196, 225]\n"
     ]
    }
   ],
   "source": [
    "new_list = [x**2 for x in range(1,16)]\n",
    "\n",
    "print(new_list)"
   ]
  },
  {
   "cell_type": "markdown",
   "metadata": {},
   "source": [
    "## Exercise 4<br>\n",
    "<p>Using List Comprehension and the given list, print out a filtered list with \n",
    "only the names that start with the letter 'a'. \n",
    "The names in the outputted list should be title cased and have no whitespace.<br>\n"
   ]
  },
  {
   "cell_type": "code",
   "execution_count": 20,
   "metadata": {},
   "outputs": [
    {
     "name": "stdout",
     "output_type": "stream",
     "text": [
      "['Amy', 'Alex']\n",
      "['Alex', 'Amy']\n"
     ]
    }
   ],
   "source": [
    "names_list = ['   amy', 'Briant', 'Ryan ', ' Alex', 'steve', '  ']\n",
    "#expected output = ['Amy', 'Alex']\n",
    "stripped_list=[name.strip().title() for name in names_list]\n",
    "\n",
    "# Answer with list comprehension\n",
    "\n",
    "a_name_list = [name for name in stripped_list if len(name)>0 if name[0] == \"A\"]\n",
    "\n",
    "print(a_name_list)\n",
    "\n",
    "# Faster solution\n",
    "# Sorted as a bonus =)\n",
    "a_names_list =[]\n",
    "\n",
    "for name in sorted(stripped_list):\n",
    "    if len(name) > 0:\n",
    "        if name[0] == \"A\":\n",
    "            a_names_list.append(name)\n",
    "        else:\n",
    "            break\n",
    "\n",
    "print(a_names_list)"
   ]
  },
  {
   "cell_type": "markdown",
   "metadata": {},
   "source": [
    "## Exercise 5 <br>\n",
    "<p>Print all Prime numbers from 1 to 100<br>\n"
   ]
  },
  {
   "cell_type": "code",
   "execution_count": 41,
   "metadata": {},
   "outputs": [
    {
     "name": "stdout",
     "output_type": "stream",
     "text": [
      "[2, 3, 4, 5, 7, 11, 13, 17, 19, 23, 29, 31, 37, 41, 43, 47, 53, 59, 61, 67, 71, 73, 79, 83, 89, 97]\n"
     ]
    }
   ],
   "source": [
    "numbers_numbers = [num for num in range(2,101)]\n",
    "\n",
    "# print(numbers)\n",
    "\n",
    "prime_numbers=[]\n",
    "\n",
    "for num in numbers:\n",
    "\n",
    "    is_prime = True\n",
    "\n",
    "    # if 2 factoral isn't a factor\n",
    "    # Then all factorals passed half the number \n",
    "    # Aren't factorals. Therefore the number is a prime number\n",
    "    \n",
    "    half_num = int(num/2)\n",
    "    \n",
    "    for factoral in range(2, half_num):\n",
    "        if num % factoral == 0:\n",
    "            is_prime = False\n",
    "            break\n",
    "\n",
    "    if is_prime == True:\n",
    "        prime_numbers.append(num)\n",
    "\n",
    "\n",
    "print(prime_numbers)\n",
    "            "
   ]
  },
  {
   "cell_type": "code",
   "execution_count": null,
   "metadata": {},
   "outputs": [],
   "source": []
  }
 ],
 "metadata": {
  "kernelspec": {
   "display_name": "Python 3 (ipykernel)",
   "language": "python",
   "name": "python3"
  },
  "language_info": {
   "codemirror_mode": {
    "name": "ipython",
    "version": 3
   },
   "file_extension": ".py",
   "mimetype": "text/x-python",
   "name": "python",
   "nbconvert_exporter": "python",
   "pygments_lexer": "ipython3",
   "version": "3.11.4"
  }
 },
 "nbformat": 4,
 "nbformat_minor": 4
}
