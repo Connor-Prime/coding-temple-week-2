{
 "cells": [
  {
   "cell_type": "markdown",
   "metadata": {},
   "source": [
    "## Exercise #1 <br>\n",
    "<p>Accept two user ages as inputs and give us the difference between them. (The Answer should always be a positive output)</p>"
   ]
  },
  {
   "cell_type": "code",
   "execution_count": 12,
   "metadata": {},
   "outputs": [
    {
     "name": "stdout",
     "output_type": "stream",
     "text": [
      "Enter a number to be subtracted from another number.  4\n",
      "Enter a number to subtract from.   6\n",
      "6 - 4 = 2\n"
     ]
    }
   ],
   "source": [
    "def ask_for_number(prompt,prompt2):\n",
    "    while True:\n",
    "        try:\n",
    "            return int(input(prompt))\n",
    "        except:\n",
    "            prompt=prompt2\n",
    "\n",
    "num1=ask_for_number(\"Enter a number to be subtracted from another number.  \", \"Enter a NUMBER to be substracted form another NUMBER.  \")\n",
    "\n",
    "num2=ask_for_number(\"Enter a number to subtract from.   \", \"Enter a NUMBER to subtract from.  \")\n",
    "\n",
    "difference = num2 - num1\n",
    "difference=abs(difference)\n",
    "print(f\"{num2} - {num1} = {difference}\")"
   ]
  },
  {
   "cell_type": "markdown",
   "metadata": {},
   "source": [
    "## Exercise #2 \n",
    "<p>Accept 3 user inputs for variables named noun, verb and adjective. Print out a formatted string using the outputs.</p>"
   ]
  },
  {
   "cell_type": "code",
   "execution_count": null,
   "metadata": {},
   "outputs": [],
   "source": [
    "noun=\"Cats\"\n",
    "verb=\"are\"\n",
    "adjective=\"cute\"\n",
    "\n",
    "print(f'{noun} {verb} {adjective}.')"
   ]
  },
  {
   "cell_type": "markdown",
   "metadata": {},
   "source": [
    "## Exercise #3 <br>\n",
    "<p>Take in a users input for their age, if they are younger than 18 print kids, if they're 18 to 65 print adults, else print seniors</p>"
   ]
  },
  {
   "cell_type": "code",
   "execution_count": null,
   "metadata": {},
   "outputs": [],
   "source": [
    "prompt = \"Enter your age: \\n\\n\"\n",
    "    \n",
    "\n",
    "user_input =\"\"    \n",
    "    \n",
    "while True:\n",
    "   \n",
    "    prompt2=\"Enter your age as a NUMBER: \\n\\n\"\n",
    "\n",
    "    try:\n",
    "        user_input = int(input(prompt))\n",
    "        break\n",
    "    except:\n",
    "        prompt=prompt2\n",
    "\n",
    "age=user_input\n",
    "        \n",
    "if age < 18:\n",
    "    print(\"kids\")\n",
    "elif age < 65:\n",
    "    print(\"adult\")\n",
    "else:\n",
    "    print(\"senior\")"
   ]
  },
  {
   "cell_type": "markdown",
   "metadata": {},
   "source": [
    "## Exercise #4\n",
    "<p>Take in a number from a user input, output the number squared.</p>"
   ]
  },
  {
   "cell_type": "code",
   "execution_count": null,
   "metadata": {},
   "outputs": [],
   "source": [
    "prompt = \"Enter a number to square: \\n\\n\"\n",
    "    \n",
    "\n",
    "user_input =\"\"    \n",
    "    \n",
    "while True:\n",
    "   \n",
    "    prompt2=\"Enter a NUMBER to square: \\n\\n\"\n",
    "\n",
    "    try:\n",
    "        user_input = float(input(prompt))\n",
    "        break\n",
    "    except:\n",
    "        prompt=prompt2\n",
    "\n",
    "\n",
    "\n",
    "print(user_input**2)"
   ]
  },
  {
   "cell_type": "markdown",
   "metadata": {},
   "source": [
    "## Exercise #5\n",
    "<p>Check the below variables' length. If the length of the word is greater than 5 output True, if it is less than 5, output False<p>\n"
   ]
  },
  {
   "cell_type": "code",
   "execution_count": null,
   "metadata": {},
   "outputs": [],
   "source": [
    "word1 = \"panini\"\n",
    "word2 = \"bulbasaur\"\n",
    "word3 = \"pie\"\n",
    "word4 = \"dolphin\"\n",
    "word5 = \"dog\"\n",
    "\n",
    "def is_shorter_than_5(string):\n",
    "    print(len(string)>5)\n",
    "\n",
    "is_shorter_than_5(word1)\n",
    "is_shorter_than_5(word2)\n",
    "is_shorter_than_5(word3)\n",
    "is_shorter_than_5(word4)\n",
    "is_shorter_than_5(word5)"
   ]
  }
 ],
 "metadata": {
  "kernelspec": {
   "display_name": "Python 3 (ipykernel)",
   "language": "python",
   "name": "python3"
  },
  "language_info": {
   "codemirror_mode": {
    "name": "ipython",
    "version": 3
   },
   "file_extension": ".py",
   "mimetype": "text/x-python",
   "name": "python",
   "nbconvert_exporter": "python",
   "pygments_lexer": "ipython3",
   "version": "3.10.9"
  }
 },
 "nbformat": 4,
 "nbformat_minor": 2
}
