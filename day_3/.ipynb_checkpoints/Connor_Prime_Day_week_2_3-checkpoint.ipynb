{
 "cells": [
  {
   "cell_type": "markdown",
   "metadata": {},
   "source": [
    "# Exercises"
   ]
  },
  {
   "cell_type": "markdown",
   "metadata": {},
   "source": [
    "### 1) Build a Shopping Cart <br>\n",
    "<p><b>You can use either lists or dictionaries. The program should have the following capabilities:</b><br><br>\n",
    "1) Takes in input <br>\n",
    "2) Stores user input into a dictionary or list <br>\n",
    "3) The User can add or delete items <br>\n",
    "4) The User can see current shopping list <br>\n",
    "5) The program Loops until user 'quits' <br>\n",
    "6) Upon quiting the program, print out all items in the user's list <br>\n",
    "</p>"
   ]
  },
  {
   "cell_type": "code",
   "execution_count": 10,
   "metadata": {
    "scrolled": true
   },
   "outputs": [
    {
     "name": "stdin",
     "output_type": "stream",
     "text": [
      "Main Menu \n",
      "\n",
      "\n",
      " Type 'add' to add an item. \n",
      " Type 'delete' to delete an item. \n",
      " Type 'view' to all items. \n",
      "\n",
      " Type 'back' to go back to the main menu. \n",
      "\n",
      " Type 'quit' to quit. \n",
      "\n",
      " add\n",
      "Type item to add: chicken\n"
     ]
    },
    {
     "name": "stdout",
     "output_type": "stream",
     "text": [
      "chicken was added to your cart.\n"
     ]
    },
    {
     "name": "stdin",
     "output_type": "stream",
     "text": [
      "How much did it cost? 4,45\n"
     ]
    },
    {
     "name": "stdout",
     "output_type": "stream",
     "text": [
      "Type item price as a number:\n"
     ]
    },
    {
     "name": "stdin",
     "output_type": "stream",
     "text": [
      "How much did it cost? 4.54\n"
     ]
    },
    {
     "name": "stdout",
     "output_type": "stream",
     "text": [
      "chicken was added to your cart. It cost $4.54\n"
     ]
    },
    {
     "name": "stdin",
     "output_type": "stream",
     "text": [
      "Type item to add: brocolli\n"
     ]
    },
    {
     "name": "stdout",
     "output_type": "stream",
     "text": [
      "brocolli was added to your cart.\n"
     ]
    },
    {
     "name": "stdin",
     "output_type": "stream",
     "text": [
      "How much did it cost? 3.45\n"
     ]
    },
    {
     "name": "stdout",
     "output_type": "stream",
     "text": [
      "brocolli was added to your cart. It cost $3.45\n"
     ]
    },
    {
     "name": "stdin",
     "output_type": "stream",
     "text": [
      "Type item to add: back\n",
      "Main Menu \n",
      "\n",
      "\n",
      " Type 'add' to add an item. \n",
      " Type 'delete' to delete an item. \n",
      " Type 'view' to all items. \n",
      "\n",
      " Type 'back' to go back to the main menu. \n",
      "\n",
      " Type 'quit' to quit. \n",
      "\n",
      " delete\n"
     ]
    },
    {
     "name": "stdout",
     "output_type": "stream",
     "text": [
      "Enter an item to delete\n"
     ]
    },
    {
     "name": "stdin",
     "output_type": "stream",
     "text": [
      " chicken\n"
     ]
    },
    {
     "name": "stdout",
     "output_type": "stream",
     "text": [
      "chicken was removed from your cart.\n",
      "Enter an item to delete\n"
     ]
    },
    {
     "name": "stdin",
     "output_type": "stream",
     "text": [
      " back\n",
      "Main Menu \n",
      "\n",
      "\n",
      " Type 'add' to add an item. \n",
      " Type 'delete' to delete an item. \n",
      " Type 'view' to all items. \n",
      "\n",
      " Type 'back' to go back to the main menu. \n",
      "\n",
      " Type 'quit' to quit. \n",
      "\n",
      " view\n"
     ]
    },
    {
     "name": "stdout",
     "output_type": "stream",
     "text": [
      "         Receipt           \n",
      "---------------------------\n",
      "brocolli 3.45\n",
      "      ----------------       \n",
      "Your total is $3.45\n"
     ]
    },
    {
     "name": "stdin",
     "output_type": "stream",
     "text": [
      "Main Menu \n",
      "\n",
      "\n",
      " Type 'add' to add an item. \n",
      " Type 'delete' to delete an item. \n",
      " Type 'view' to all items. \n",
      "\n",
      " Type 'back' to go back to the main menu. \n",
      "\n",
      " Type 'quit' to quit. \n",
      "\n",
      " quit\n",
      "Are you sure you want to ? Type 'yes' for yes. Type 'no' for no. yes\n"
     ]
    },
    {
     "name": "stdout",
     "output_type": "stream",
     "text": [
      "Okay then. You've exited your cart. Have a nice day.\n",
      "         Receipt           \n",
      "---------------------------\n",
      "brocolli 3.45\n",
      "      ----------------       \n",
      "Your total is $3.45\n"
     ]
    }
   ],
   "source": [
    "from IPython.display import clear_output\n",
    "\n",
    "# Ask the user four bits of input: Do you want to : Show/Add/Delete or Quit?\n",
    "main_menu_header=\"Main Menu \\n\\n\"\n",
    "add_item_menu=\"Type \\'add\\' to add an item.\"\n",
    "delete_item_menu=\"Type \\'delete\\' to delete an item.\"\n",
    "view_item_menu=\"Type \\'view\\' to all items.\"\n",
    "quit_menu=\"Type \\'quit\\' to quit.\"\n",
    "# This is for bringing the user back to the main menu\n",
    "go_back_menu=\"Type \\'back\\' to go back to the main menu.\"\n",
    "\n",
    "main_menu = f\"{main_menu_header}\\n {add_item_menu} \\n {delete_item_menu} \\n {view_item_menu} \\n\\n {go_back_menu} \\n\\n {quit_menu} \\n\\n\"\n",
    "\n",
    "shopping = True\n",
    "\n",
    "\n",
    "\n",
    "# Exits loop if 'quit' is typed.\n",
    "def try_to_quit(command):\n",
    "\n",
    "        command=input(\"Are you sure you want to ? Type \\'yes\\' for yes. Type \\'no\\' for no.\").strip().lower()\n",
    "        match command:\n",
    "            case \"yes\":\n",
    "                print(\"Okay then. You've exited your cart. Have a nice day.\")\n",
    "                return \"leave\"\n",
    "            case \"quit\":\n",
    "                print(\"Okay then. You've exited your cart. Have a nice day.\")\n",
    "                return \"leave\"\n",
    "            case \"no\":\n",
    "                return \"back\"\n",
    "            case _:\n",
    "                print(\"I didn't quite get that\")\n",
    "                return \"quit\"\n",
    "\n",
    "\n",
    "def add_item():\n",
    "    \n",
    "\n",
    "    item=\"\"\n",
    "    price=\"\"\n",
    "\n",
    "    # ADDS ITEMS\n",
    "    \n",
    "    command = input(\"Type item to add:\").strip()\n",
    "\n",
    "    if check_menu_change_or_quit(command) != None or command == \"add\":\n",
    "        return command\n",
    "        \n",
    "    item = command\n",
    "    print(f\"{command} was added to your cart.\")\n",
    "\n",
    "    # Adds amount. Checks if number first\n",
    "    while True:\n",
    "        command = input(\"How much did it cost?\").strip()\n",
    "        try: \n",
    "            x =float(command)\n",
    "            price = round(x,2)\n",
    "            if check_menu_change_or_quit(command) != None or command == \"add\":\n",
    "                return command\n",
    "            print(f\"{item} was added to your cart. It cost ${price}\")\n",
    "            cart[item] = price\n",
    "            \n",
    "            return \"add\"\n",
    "        except:\n",
    "            if check_menu_change_or_quit(command) != None or command == \"add\":\n",
    "                return command\n",
    "            print(\"Type item price as a number:\")\n",
    "\n",
    "\n",
    "\n",
    "def view_items():\n",
    "    print(\"         Receipt           \")\n",
    "    print(\"---------------------------\")\n",
    "    \n",
    "    for item,amount in cart.items():\n",
    "        print(item, amount)\n",
    "\n",
    "    total = round(sum(cart.values()),2)\n",
    "    print(\"      ----------------       \")\n",
    "    print(f\"Your total is ${total}\")\n",
    "    \n",
    "    return \"back\"\n",
    "\n",
    "\n",
    "\n",
    "def delete_items():\n",
    "    print(\"Enter an item to delete\")\n",
    "\n",
    "    command = input().strip().lower()\n",
    "\n",
    "    item = command\n",
    "    \n",
    "    if check_menu_change_or_quit(command) != None:\n",
    "        return check_menu_change_or_quit(command)\n",
    "\n",
    "    if cart.get(item) != None:\n",
    "        del(cart[item])\n",
    "        print(f\"{item} was removed from your cart.\")\n",
    "    else:\n",
    "        print(f\"{item} was not in your cart.\")    \n",
    "    return \"delete\"\n",
    "\n",
    "def check_menu_change_or_quit(command):\n",
    "    match command:\n",
    "        case \"back\":\n",
    "            return command\n",
    "        case \"quit\":\n",
    "            return command\n",
    "        case _:\n",
    "            return None\n",
    "\n",
    "\n",
    "\n",
    "\n",
    "# Main Shopping loop\n",
    "def checkout():\n",
    "    command = None\n",
    "\n",
    "    cart={}\n",
    "    while shopping:\n",
    "        if command == \"leave\":\n",
    "            break\n",
    "        if command == 'back' or command == None:\n",
    "            command = input(main_menu).lstrip().rstrip().lower()\n",
    "        match command:\n",
    "            case \"quit\":\n",
    "                command = try_to_quit(command)\n",
    "            case \"add\":\n",
    "                command = add_item()\n",
    "            case \"view\":\n",
    "                command = view_items()\n",
    "            case \"delete\":\n",
    "                command = delete_items()\n",
    "            case _:\n",
    "                print(\"I didn't quit get that.\")\n",
    "                command = None\n",
    "    # prints final recipt\n",
    "    dumby_variable=view_items()\n",
    "\n",
    "checkout()"
   ]
  },
  {
   "cell_type": "markdown",
   "metadata": {},
   "source": [
    "# Dictionaries & Sets"
   ]
  },
  {
   "cell_type": "markdown",
   "metadata": {},
   "source": [
    "### 2) Set Practice"
   ]
  },
  {
   "cell_type": "markdown",
   "metadata": {},
   "source": [
    "<p><b>Remove all duplicates from the following list</b></p>"
   ]
  },
  {
   "cell_type": "code",
   "execution_count": 2,
   "metadata": {},
   "outputs": [
    {
     "name": "stdout",
     "output_type": "stream",
     "text": [
      "[1, 2, 3, 4, 5, 6, 11, 12, 14, 16]\n"
     ]
    }
   ],
   "source": [
    "nums_list = [1, 1, 1, 2, 2, 3, 5, 6, 4, 12, 11, 12, 12, 14, 16, 16, 16, 1, 1, 1, 2, 2]\n",
    "\n",
    "nums_list= list(set(nums_list))\n",
    "print(nums_list)"
   ]
  },
  {
   "cell_type": "markdown",
   "metadata": {},
   "source": [
    "<p><b>Out put the intersection of the following the following sets.</b></p>"
   ]
  },
  {
   "cell_type": "code",
   "execution_count": 3,
   "metadata": {},
   "outputs": [
    {
     "name": "stdout",
     "output_type": "stream",
     "text": [
      "{26, 27}\n"
     ]
    }
   ],
   "source": [
    "set1 = {20, 24, 26, 27}\n",
    "set2 = {26, 35, 63, 27}\n",
    "\n",
    "print(set1 & set2)"
   ]
  },
  {
   "cell_type": "markdown",
   "metadata": {},
   "source": [
    "<p><b>Output the difference between the following sets</b></p>"
   ]
  },
  {
   "cell_type": "code",
   "execution_count": 5,
   "metadata": {},
   "outputs": [
    {
     "name": "stdout",
     "output_type": "stream",
     "text": [
      "{89, 100}\n"
     ]
    }
   ],
   "source": [
    "set3 = {100, 65, 89, 200}\n",
    "set4 = {65, 103, 54, 200}\n",
    "print(set3 - set4)"
   ]
  },
  {
   "cell_type": "code",
   "execution_count": null,
   "metadata": {},
   "outputs": [],
   "source": []
  }
 ],
 "metadata": {
  "kernelspec": {
   "display_name": "Python 3 (ipykernel)",
   "language": "python",
   "name": "python3"
  },
  "language_info": {
   "codemirror_mode": {
    "name": "ipython",
    "version": 3
   },
   "file_extension": ".py",
   "mimetype": "text/x-python",
   "name": "python",
   "nbconvert_exporter": "python",
   "pygments_lexer": "ipython3",
   "version": "3.11.4"
  }
 },
 "nbformat": 4,
 "nbformat_minor": 4
}
